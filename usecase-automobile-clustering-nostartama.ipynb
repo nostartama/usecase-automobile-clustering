{
 "cells": [
  {
   "cell_type": "markdown",
   "metadata": {},
   "source": [
    "## Library"
   ]
  },
  {
   "cell_type": "code",
   "execution_count": 25,
   "metadata": {},
   "outputs": [],
   "source": [
    "import pandas as pd\n",
    "import numpy as np\n",
    "import seaborn as sns\n",
    "#sns.set(color_codes=True,style=\"whitegrid\")\n",
    "\n",
    "import seaborn as sns; sns.set()\n",
    "import matplotlib.pyplot as plt\n",
    "%matplotlib inline"
   ]
  },
  {
   "cell_type": "code",
   "execution_count": 26,
   "metadata": {
    "collapsed": true
   },
   "outputs": [
    {
     "data": {
      "text/html": [
       "<div>\n",
       "<style scoped>\n",
       "    .dataframe tbody tr th:only-of-type {\n",
       "        vertical-align: middle;\n",
       "    }\n",
       "\n",
       "    .dataframe tbody tr th {\n",
       "        vertical-align: top;\n",
       "    }\n",
       "\n",
       "    .dataframe thead th {\n",
       "        text-align: right;\n",
       "    }\n",
       "</style>\n",
       "<table border=\"1\" class=\"dataframe\">\n",
       "  <thead>\n",
       "    <tr style=\"text-align: right;\">\n",
       "      <th></th>\n",
       "      <th>ID</th>\n",
       "      <th>make</th>\n",
       "      <th>fuel-type</th>\n",
       "      <th>aspiration</th>\n",
       "      <th>num-of-doors</th>\n",
       "      <th>body-style</th>\n",
       "      <th>drive-wheel</th>\n",
       "      <th>engine-loc</th>\n",
       "      <th>wheel-base</th>\n",
       "      <th>length</th>\n",
       "      <th>...</th>\n",
       "      <th>bore</th>\n",
       "      <th>stroke</th>\n",
       "      <th>compression-ratio</th>\n",
       "      <th>horsepower</th>\n",
       "      <th>peak-rpm</th>\n",
       "      <th>city-mpg</th>\n",
       "      <th>highway-mpg</th>\n",
       "      <th>price</th>\n",
       "      <th>symboling</th>\n",
       "      <th>normalized-losses</th>\n",
       "    </tr>\n",
       "  </thead>\n",
       "  <tbody>\n",
       "    <tr>\n",
       "      <td>0</td>\n",
       "      <td>1</td>\n",
       "      <td>alfa-romero</td>\n",
       "      <td>gas</td>\n",
       "      <td>std</td>\n",
       "      <td>two</td>\n",
       "      <td>convertible</td>\n",
       "      <td>rwd</td>\n",
       "      <td>front</td>\n",
       "      <td>88.6</td>\n",
       "      <td>168.8</td>\n",
       "      <td>...</td>\n",
       "      <td>3.47</td>\n",
       "      <td>2.68</td>\n",
       "      <td>9.0</td>\n",
       "      <td>111.0</td>\n",
       "      <td>5000.0</td>\n",
       "      <td>21</td>\n",
       "      <td>27</td>\n",
       "      <td>13495.0</td>\n",
       "      <td>3</td>\n",
       "      <td>NaN</td>\n",
       "    </tr>\n",
       "    <tr>\n",
       "      <td>1</td>\n",
       "      <td>2</td>\n",
       "      <td>alfa-romero</td>\n",
       "      <td>gas</td>\n",
       "      <td>std</td>\n",
       "      <td>two</td>\n",
       "      <td>convertible</td>\n",
       "      <td>rwd</td>\n",
       "      <td>front</td>\n",
       "      <td>88.6</td>\n",
       "      <td>168.8</td>\n",
       "      <td>...</td>\n",
       "      <td>3.47</td>\n",
       "      <td>2.68</td>\n",
       "      <td>9.0</td>\n",
       "      <td>111.0</td>\n",
       "      <td>5000.0</td>\n",
       "      <td>21</td>\n",
       "      <td>27</td>\n",
       "      <td>16500.0</td>\n",
       "      <td>3</td>\n",
       "      <td>NaN</td>\n",
       "    </tr>\n",
       "    <tr>\n",
       "      <td>2</td>\n",
       "      <td>3</td>\n",
       "      <td>alfa-romero</td>\n",
       "      <td>gas</td>\n",
       "      <td>std</td>\n",
       "      <td>two</td>\n",
       "      <td>hatchback</td>\n",
       "      <td>rwd</td>\n",
       "      <td>front</td>\n",
       "      <td>94.5</td>\n",
       "      <td>171.2</td>\n",
       "      <td>...</td>\n",
       "      <td>2.68</td>\n",
       "      <td>3.47</td>\n",
       "      <td>9.0</td>\n",
       "      <td>154.0</td>\n",
       "      <td>5000.0</td>\n",
       "      <td>19</td>\n",
       "      <td>26</td>\n",
       "      <td>16500.0</td>\n",
       "      <td>1</td>\n",
       "      <td>NaN</td>\n",
       "    </tr>\n",
       "    <tr>\n",
       "      <td>3</td>\n",
       "      <td>4</td>\n",
       "      <td>audi</td>\n",
       "      <td>gas</td>\n",
       "      <td>std</td>\n",
       "      <td>four</td>\n",
       "      <td>sedan</td>\n",
       "      <td>fwd</td>\n",
       "      <td>front</td>\n",
       "      <td>99.8</td>\n",
       "      <td>176.6</td>\n",
       "      <td>...</td>\n",
       "      <td>3.19</td>\n",
       "      <td>3.40</td>\n",
       "      <td>10.0</td>\n",
       "      <td>102.0</td>\n",
       "      <td>5500.0</td>\n",
       "      <td>24</td>\n",
       "      <td>30</td>\n",
       "      <td>13950.0</td>\n",
       "      <td>2</td>\n",
       "      <td>164.0</td>\n",
       "    </tr>\n",
       "    <tr>\n",
       "      <td>4</td>\n",
       "      <td>5</td>\n",
       "      <td>audi</td>\n",
       "      <td>gas</td>\n",
       "      <td>std</td>\n",
       "      <td>four</td>\n",
       "      <td>sedan</td>\n",
       "      <td>4wd</td>\n",
       "      <td>front</td>\n",
       "      <td>99.4</td>\n",
       "      <td>176.6</td>\n",
       "      <td>...</td>\n",
       "      <td>3.19</td>\n",
       "      <td>3.40</td>\n",
       "      <td>8.0</td>\n",
       "      <td>115.0</td>\n",
       "      <td>5500.0</td>\n",
       "      <td>18</td>\n",
       "      <td>22</td>\n",
       "      <td>17450.0</td>\n",
       "      <td>2</td>\n",
       "      <td>164.0</td>\n",
       "    </tr>\n",
       "  </tbody>\n",
       "</table>\n",
       "<p>5 rows × 27 columns</p>\n",
       "</div>"
      ],
      "text/plain": [
       "   ID         make fuel-type aspiration num-of-doors   body-style drive-wheel  \\\n",
       "0   1  alfa-romero       gas        std          two  convertible         rwd   \n",
       "1   2  alfa-romero       gas        std          two  convertible         rwd   \n",
       "2   3  alfa-romero       gas        std          two    hatchback         rwd   \n",
       "3   4         audi       gas        std         four        sedan         fwd   \n",
       "4   5         audi       gas        std         four        sedan         4wd   \n",
       "\n",
       "  engine-loc  wheel-base  length  ...  bore  stroke  compression-ratio  \\\n",
       "0      front        88.6   168.8  ...  3.47    2.68                9.0   \n",
       "1      front        88.6   168.8  ...  3.47    2.68                9.0   \n",
       "2      front        94.5   171.2  ...  2.68    3.47                9.0   \n",
       "3      front        99.8   176.6  ...  3.19    3.40               10.0   \n",
       "4      front        99.4   176.6  ...  3.19    3.40                8.0   \n",
       "\n",
       "  horsepower peak-rpm  city-mpg highway-mpg    price  symboling  \\\n",
       "0      111.0   5000.0        21          27  13495.0          3   \n",
       "1      111.0   5000.0        21          27  16500.0          3   \n",
       "2      154.0   5000.0        19          26  16500.0          1   \n",
       "3      102.0   5500.0        24          30  13950.0          2   \n",
       "4      115.0   5500.0        18          22  17450.0          2   \n",
       "\n",
       "   normalized-losses  \n",
       "0                NaN  \n",
       "1                NaN  \n",
       "2                NaN  \n",
       "3              164.0  \n",
       "4              164.0  \n",
       "\n",
       "[5 rows x 27 columns]"
      ]
     },
     "execution_count": 26,
     "metadata": {},
     "output_type": "execute_result"
    }
   ],
   "source": [
    "df_am_losses = pd.read_csv('dataset/Automobile/automobile-losses.csv')\n",
    "df_am_risk = pd.read_csv('dataset/Automobile/automobile-risk.csv')\n",
    "df_am_spec = pd.read_csv('dataset/Automobile/automobile-spec.csv')\n",
    "\n",
    "df = pd.merge(df_am_spec,df_am_risk,how='outer',on='ID')\n",
    "df = pd.merge(df,df_am_losses,how='outer',on='ID')\n",
    "df.set_index('ID')\n",
    "df.head()"
   ]
  },
  {
   "cell_type": "code",
   "execution_count": 28,
   "metadata": {},
   "outputs": [
    {
     "name": "stdout",
     "output_type": "stream",
     "text": [
      "<class 'pandas.core.frame.DataFrame'>\n",
      "Int64Index: 205 entries, 0 to 204\n",
      "Data columns (total 27 columns):\n",
      "ID                   205 non-null int64\n",
      "make                 205 non-null object\n",
      "fuel-type            205 non-null object\n",
      "aspiration           205 non-null object\n",
      "num-of-doors         204 non-null object\n",
      "body-style           205 non-null object\n",
      "drive-wheel          205 non-null object\n",
      "engine-loc           205 non-null object\n",
      "wheel-base           205 non-null float64\n",
      "length               205 non-null float64\n",
      "width                205 non-null float64\n",
      "height               205 non-null float64\n",
      "curb-weight          205 non-null int64\n",
      "engine-type          205 non-null object\n",
      "cylinder             205 non-null object\n",
      "engine-size          205 non-null int64\n",
      "fuel-system          205 non-null object\n",
      "bore                 201 non-null float64\n",
      "stroke               201 non-null float64\n",
      "compression-ratio    205 non-null float64\n",
      "horsepower           203 non-null float64\n",
      "peak-rpm             203 non-null float64\n",
      "city-mpg             205 non-null int64\n",
      "highway-mpg          205 non-null int64\n",
      "price                201 non-null float64\n",
      "symboling            205 non-null int64\n",
      "normalized-losses    164 non-null float64\n",
      "dtypes: float64(11), int64(6), object(10)\n",
      "memory usage: 44.8+ KB\n"
     ]
    }
   ],
   "source": [
    "df.info()"
   ]
  },
  {
   "cell_type": "code",
   "execution_count": 27,
   "metadata": {},
   "outputs": [
    {
     "data": {
      "text/plain": [
       "ID                    0\n",
       "make                  0\n",
       "fuel-type             0\n",
       "aspiration            0\n",
       "num-of-doors          1\n",
       "body-style            0\n",
       "drive-wheel           0\n",
       "engine-loc            0\n",
       "wheel-base            0\n",
       "length                0\n",
       "width                 0\n",
       "height                0\n",
       "curb-weight           0\n",
       "engine-type           0\n",
       "cylinder              0\n",
       "engine-size           0\n",
       "fuel-system           0\n",
       "bore                  4\n",
       "stroke                4\n",
       "compression-ratio     0\n",
       "horsepower            2\n",
       "peak-rpm              2\n",
       "city-mpg              0\n",
       "highway-mpg           0\n",
       "price                 4\n",
       "symboling             0\n",
       "normalized-losses    41\n",
       "dtype: int64"
      ]
     },
     "execution_count": 27,
     "metadata": {},
     "output_type": "execute_result"
    }
   ],
   "source": [
    "df.isnull().sum()"
   ]
  },
  {
   "cell_type": "markdown",
   "metadata": {},
   "source": [
    "## Missing Value"
   ]
  },
  {
   "cell_type": "markdown",
   "metadata": {},
   "source": [
    "Beberapa kolom yang perlu diisikan missing value dengan pendekatan median dan mode."
   ]
  },
  {
   "cell_type": "code",
   "execution_count": 29,
   "metadata": {},
   "outputs": [],
   "source": [
    "df['num-of-doors'].fillna(value=df['num-of-doors'].value_counts().index[0],inplace =True)\n",
    "df['bore'].fillna(value=df['bore'].median(),inplace =True)\n",
    "df['stroke'].fillna(value=df['stroke'].median(),inplace =True)\n",
    "df['horsepower'].fillna(value=df['horsepower'].median(),inplace =True)\n",
    "df['peak-rpm'].fillna(value=df['peak-rpm'].median(),inplace =True)\n",
    "df['price'].fillna(value=df['price'].median(),inplace =True)\n",
    "df['normalized-losses'].fillna(value=df['normalized-losses'].median(),inplace =True)"
   ]
  },
  {
   "cell_type": "code",
   "execution_count": 30,
   "metadata": {},
   "outputs": [
    {
     "data": {
      "text/html": [
       "<div>\n",
       "<style scoped>\n",
       "    .dataframe tbody tr th:only-of-type {\n",
       "        vertical-align: middle;\n",
       "    }\n",
       "\n",
       "    .dataframe tbody tr th {\n",
       "        vertical-align: top;\n",
       "    }\n",
       "\n",
       "    .dataframe thead th {\n",
       "        text-align: right;\n",
       "    }\n",
       "</style>\n",
       "<table border=\"1\" class=\"dataframe\">\n",
       "  <thead>\n",
       "    <tr style=\"text-align: right;\">\n",
       "      <th></th>\n",
       "      <th>ID</th>\n",
       "      <th>wheel-base</th>\n",
       "      <th>length</th>\n",
       "      <th>width</th>\n",
       "      <th>height</th>\n",
       "      <th>curb-weight</th>\n",
       "      <th>engine-size</th>\n",
       "      <th>bore</th>\n",
       "      <th>stroke</th>\n",
       "      <th>compression-ratio</th>\n",
       "      <th>horsepower</th>\n",
       "      <th>peak-rpm</th>\n",
       "      <th>city-mpg</th>\n",
       "      <th>highway-mpg</th>\n",
       "      <th>price</th>\n",
       "      <th>symboling</th>\n",
       "      <th>normalized-losses</th>\n",
       "    </tr>\n",
       "  </thead>\n",
       "  <tbody>\n",
       "    <tr>\n",
       "      <td>ID</td>\n",
       "      <td>1.000000</td>\n",
       "      <td>0.129729</td>\n",
       "      <td>0.170636</td>\n",
       "      <td>0.052387</td>\n",
       "      <td>0.255960</td>\n",
       "      <td>0.071962</td>\n",
       "      <td>-0.033930</td>\n",
       "      <td>0.261161</td>\n",
       "      <td>-0.162483</td>\n",
       "      <td>0.150276</td>\n",
       "      <td>-0.014415</td>\n",
       "      <td>-0.202780</td>\n",
       "      <td>0.015940</td>\n",
       "      <td>0.011255</td>\n",
       "      <td>-0.110874</td>\n",
       "      <td>-0.151621</td>\n",
       "      <td>-0.221681</td>\n",
       "    </tr>\n",
       "    <tr>\n",
       "      <td>wheel-base</td>\n",
       "      <td>0.129729</td>\n",
       "      <td>1.000000</td>\n",
       "      <td>0.874587</td>\n",
       "      <td>0.795144</td>\n",
       "      <td>0.589435</td>\n",
       "      <td>0.776386</td>\n",
       "      <td>0.569329</td>\n",
       "      <td>0.489556</td>\n",
       "      <td>0.159684</td>\n",
       "      <td>0.249786</td>\n",
       "      <td>0.352876</td>\n",
       "      <td>-0.361338</td>\n",
       "      <td>-0.470414</td>\n",
       "      <td>-0.544082</td>\n",
       "      <td>0.584847</td>\n",
       "      <td>-0.531954</td>\n",
       "      <td>-0.073709</td>\n",
       "    </tr>\n",
       "    <tr>\n",
       "      <td>length</td>\n",
       "      <td>0.170636</td>\n",
       "      <td>0.874587</td>\n",
       "      <td>1.000000</td>\n",
       "      <td>0.841118</td>\n",
       "      <td>0.491029</td>\n",
       "      <td>0.877728</td>\n",
       "      <td>0.683360</td>\n",
       "      <td>0.607016</td>\n",
       "      <td>0.128622</td>\n",
       "      <td>0.158414</td>\n",
       "      <td>0.553337</td>\n",
       "      <td>-0.286362</td>\n",
       "      <td>-0.670909</td>\n",
       "      <td>-0.704662</td>\n",
       "      <td>0.686567</td>\n",
       "      <td>-0.357612</td>\n",
       "      <td>-0.006837</td>\n",
       "    </tr>\n",
       "    <tr>\n",
       "      <td>width</td>\n",
       "      <td>0.052387</td>\n",
       "      <td>0.795144</td>\n",
       "      <td>0.841118</td>\n",
       "      <td>1.000000</td>\n",
       "      <td>0.279210</td>\n",
       "      <td>0.867032</td>\n",
       "      <td>0.735433</td>\n",
       "      <td>0.559262</td>\n",
       "      <td>0.182708</td>\n",
       "      <td>0.181129</td>\n",
       "      <td>0.641337</td>\n",
       "      <td>-0.219374</td>\n",
       "      <td>-0.642704</td>\n",
       "      <td>-0.677218</td>\n",
       "      <td>0.724558</td>\n",
       "      <td>-0.232919</td>\n",
       "      <td>0.058378</td>\n",
       "    </tr>\n",
       "    <tr>\n",
       "      <td>height</td>\n",
       "      <td>0.255960</td>\n",
       "      <td>0.589435</td>\n",
       "      <td>0.491029</td>\n",
       "      <td>0.279210</td>\n",
       "      <td>1.000000</td>\n",
       "      <td>0.295572</td>\n",
       "      <td>0.067149</td>\n",
       "      <td>0.173506</td>\n",
       "      <td>-0.058994</td>\n",
       "      <td>0.261214</td>\n",
       "      <td>-0.109286</td>\n",
       "      <td>-0.321113</td>\n",
       "      <td>-0.048640</td>\n",
       "      <td>-0.107358</td>\n",
       "      <td>0.140439</td>\n",
       "      <td>-0.541038</td>\n",
       "      <td>-0.365674</td>\n",
       "    </tr>\n",
       "    <tr>\n",
       "      <td>curb-weight</td>\n",
       "      <td>0.071962</td>\n",
       "      <td>0.776386</td>\n",
       "      <td>0.877728</td>\n",
       "      <td>0.867032</td>\n",
       "      <td>0.295572</td>\n",
       "      <td>1.000000</td>\n",
       "      <td>0.850594</td>\n",
       "      <td>0.648848</td>\n",
       "      <td>0.168164</td>\n",
       "      <td>0.151362</td>\n",
       "      <td>0.750927</td>\n",
       "      <td>-0.266358</td>\n",
       "      <td>-0.757414</td>\n",
       "      <td>-0.797465</td>\n",
       "      <td>0.819817</td>\n",
       "      <td>-0.227691</td>\n",
       "      <td>0.064343</td>\n",
       "    </tr>\n",
       "    <tr>\n",
       "      <td>engine-size</td>\n",
       "      <td>-0.033930</td>\n",
       "      <td>0.569329</td>\n",
       "      <td>0.683360</td>\n",
       "      <td>0.735433</td>\n",
       "      <td>0.067149</td>\n",
       "      <td>0.850594</td>\n",
       "      <td>1.000000</td>\n",
       "      <td>0.585636</td>\n",
       "      <td>0.200246</td>\n",
       "      <td>0.028971</td>\n",
       "      <td>0.810216</td>\n",
       "      <td>-0.244383</td>\n",
       "      <td>-0.653658</td>\n",
       "      <td>-0.677470</td>\n",
       "      <td>0.860343</td>\n",
       "      <td>-0.105790</td>\n",
       "      <td>0.072536</td>\n",
       "    </tr>\n",
       "    <tr>\n",
       "      <td>bore</td>\n",
       "      <td>0.261161</td>\n",
       "      <td>0.489556</td>\n",
       "      <td>0.607016</td>\n",
       "      <td>0.559262</td>\n",
       "      <td>0.173506</td>\n",
       "      <td>0.648848</td>\n",
       "      <td>0.585636</td>\n",
       "      <td>1.000000</td>\n",
       "      <td>-0.056054</td>\n",
       "      <td>0.005468</td>\n",
       "      <td>0.574258</td>\n",
       "      <td>-0.256600</td>\n",
       "      <td>-0.582627</td>\n",
       "      <td>-0.585352</td>\n",
       "      <td>0.532861</td>\n",
       "      <td>-0.132563</td>\n",
       "      <td>-0.050428</td>\n",
       "    </tr>\n",
       "    <tr>\n",
       "      <td>stroke</td>\n",
       "      <td>-0.162483</td>\n",
       "      <td>0.159684</td>\n",
       "      <td>0.128622</td>\n",
       "      <td>0.182708</td>\n",
       "      <td>-0.058994</td>\n",
       "      <td>0.168164</td>\n",
       "      <td>0.200246</td>\n",
       "      <td>-0.056054</td>\n",
       "      <td>1.000000</td>\n",
       "      <td>0.185679</td>\n",
       "      <td>0.083804</td>\n",
       "      <td>-0.059716</td>\n",
       "      <td>-0.044973</td>\n",
       "      <td>-0.046389</td>\n",
       "      <td>0.083627</td>\n",
       "      <td>-0.004928</td>\n",
       "      <td>0.046739</td>\n",
       "    </tr>\n",
       "    <tr>\n",
       "      <td>compression-ratio</td>\n",
       "      <td>0.150276</td>\n",
       "      <td>0.249786</td>\n",
       "      <td>0.158414</td>\n",
       "      <td>0.181129</td>\n",
       "      <td>0.261214</td>\n",
       "      <td>0.151362</td>\n",
       "      <td>0.028971</td>\n",
       "      <td>0.005468</td>\n",
       "      <td>0.185679</td>\n",
       "      <td>1.000000</td>\n",
       "      <td>-0.204851</td>\n",
       "      <td>-0.436441</td>\n",
       "      <td>0.324701</td>\n",
       "      <td>0.265201</td>\n",
       "      <td>0.072890</td>\n",
       "      <td>-0.178515</td>\n",
       "      <td>-0.114772</td>\n",
       "    </tr>\n",
       "    <tr>\n",
       "      <td>horsepower</td>\n",
       "      <td>-0.014415</td>\n",
       "      <td>0.352876</td>\n",
       "      <td>0.553337</td>\n",
       "      <td>0.641337</td>\n",
       "      <td>-0.109286</td>\n",
       "      <td>0.750927</td>\n",
       "      <td>0.810216</td>\n",
       "      <td>0.574258</td>\n",
       "      <td>0.083804</td>\n",
       "      <td>-0.204851</td>\n",
       "      <td>1.000000</td>\n",
       "      <td>0.130565</td>\n",
       "      <td>-0.802170</td>\n",
       "      <td>-0.770780</td>\n",
       "      <td>0.749919</td>\n",
       "      <td>0.071064</td>\n",
       "      <td>0.166964</td>\n",
       "    </tr>\n",
       "    <tr>\n",
       "      <td>peak-rpm</td>\n",
       "      <td>-0.202780</td>\n",
       "      <td>-0.361338</td>\n",
       "      <td>-0.286362</td>\n",
       "      <td>-0.219374</td>\n",
       "      <td>-0.321113</td>\n",
       "      <td>-0.266358</td>\n",
       "      <td>-0.244383</td>\n",
       "      <td>-0.256600</td>\n",
       "      <td>-0.059716</td>\n",
       "      <td>-0.436441</td>\n",
       "      <td>0.130565</td>\n",
       "      <td>1.000000</td>\n",
       "      <td>-0.114230</td>\n",
       "      <td>-0.054195</td>\n",
       "      <td>-0.107283</td>\n",
       "      <td>0.273851</td>\n",
       "      <td>0.241134</td>\n",
       "    </tr>\n",
       "    <tr>\n",
       "      <td>city-mpg</td>\n",
       "      <td>0.015940</td>\n",
       "      <td>-0.470414</td>\n",
       "      <td>-0.670909</td>\n",
       "      <td>-0.642704</td>\n",
       "      <td>-0.048640</td>\n",
       "      <td>-0.757414</td>\n",
       "      <td>-0.653658</td>\n",
       "      <td>-0.582627</td>\n",
       "      <td>-0.044973</td>\n",
       "      <td>0.324701</td>\n",
       "      <td>-0.802170</td>\n",
       "      <td>-0.114230</td>\n",
       "      <td>1.000000</td>\n",
       "      <td>0.971337</td>\n",
       "      <td>-0.668822</td>\n",
       "      <td>-0.035823</td>\n",
       "      <td>-0.189530</td>\n",
       "    </tr>\n",
       "    <tr>\n",
       "      <td>highway-mpg</td>\n",
       "      <td>0.011255</td>\n",
       "      <td>-0.544082</td>\n",
       "      <td>-0.704662</td>\n",
       "      <td>-0.677218</td>\n",
       "      <td>-0.107358</td>\n",
       "      <td>-0.797465</td>\n",
       "      <td>-0.677470</td>\n",
       "      <td>-0.585352</td>\n",
       "      <td>-0.046389</td>\n",
       "      <td>0.265201</td>\n",
       "      <td>-0.770780</td>\n",
       "      <td>-0.054195</td>\n",
       "      <td>0.971337</td>\n",
       "      <td>1.000000</td>\n",
       "      <td>-0.693037</td>\n",
       "      <td>0.034606</td>\n",
       "      <td>-0.149357</td>\n",
       "    </tr>\n",
       "    <tr>\n",
       "      <td>price</td>\n",
       "      <td>-0.110874</td>\n",
       "      <td>0.584847</td>\n",
       "      <td>0.686567</td>\n",
       "      <td>0.724558</td>\n",
       "      <td>0.140439</td>\n",
       "      <td>0.819817</td>\n",
       "      <td>0.860343</td>\n",
       "      <td>0.532861</td>\n",
       "      <td>0.083627</td>\n",
       "      <td>0.072890</td>\n",
       "      <td>0.749919</td>\n",
       "      <td>-0.107283</td>\n",
       "      <td>-0.668822</td>\n",
       "      <td>-0.693037</td>\n",
       "      <td>1.000000</td>\n",
       "      <td>-0.080149</td>\n",
       "      <td>0.095489</td>\n",
       "    </tr>\n",
       "    <tr>\n",
       "      <td>symboling</td>\n",
       "      <td>-0.151621</td>\n",
       "      <td>-0.531954</td>\n",
       "      <td>-0.357612</td>\n",
       "      <td>-0.232919</td>\n",
       "      <td>-0.541038</td>\n",
       "      <td>-0.227691</td>\n",
       "      <td>-0.105790</td>\n",
       "      <td>-0.132563</td>\n",
       "      <td>-0.004928</td>\n",
       "      <td>-0.178515</td>\n",
       "      <td>0.071064</td>\n",
       "      <td>0.273851</td>\n",
       "      <td>-0.035823</td>\n",
       "      <td>0.034606</td>\n",
       "      <td>-0.080149</td>\n",
       "      <td>1.000000</td>\n",
       "      <td>0.457484</td>\n",
       "    </tr>\n",
       "    <tr>\n",
       "      <td>normalized-losses</td>\n",
       "      <td>-0.221681</td>\n",
       "      <td>-0.073709</td>\n",
       "      <td>-0.006837</td>\n",
       "      <td>0.058378</td>\n",
       "      <td>-0.365674</td>\n",
       "      <td>0.064343</td>\n",
       "      <td>0.072536</td>\n",
       "      <td>-0.050428</td>\n",
       "      <td>0.046739</td>\n",
       "      <td>-0.114772</td>\n",
       "      <td>0.166964</td>\n",
       "      <td>0.241134</td>\n",
       "      <td>-0.189530</td>\n",
       "      <td>-0.149357</td>\n",
       "      <td>0.095489</td>\n",
       "      <td>0.457484</td>\n",
       "      <td>1.000000</td>\n",
       "    </tr>\n",
       "  </tbody>\n",
       "</table>\n",
       "</div>"
      ],
      "text/plain": [
       "                         ID  wheel-base    length     width    height  \\\n",
       "ID                 1.000000    0.129729  0.170636  0.052387  0.255960   \n",
       "wheel-base         0.129729    1.000000  0.874587  0.795144  0.589435   \n",
       "length             0.170636    0.874587  1.000000  0.841118  0.491029   \n",
       "width              0.052387    0.795144  0.841118  1.000000  0.279210   \n",
       "height             0.255960    0.589435  0.491029  0.279210  1.000000   \n",
       "curb-weight        0.071962    0.776386  0.877728  0.867032  0.295572   \n",
       "engine-size       -0.033930    0.569329  0.683360  0.735433  0.067149   \n",
       "bore               0.261161    0.489556  0.607016  0.559262  0.173506   \n",
       "stroke            -0.162483    0.159684  0.128622  0.182708 -0.058994   \n",
       "compression-ratio  0.150276    0.249786  0.158414  0.181129  0.261214   \n",
       "horsepower        -0.014415    0.352876  0.553337  0.641337 -0.109286   \n",
       "peak-rpm          -0.202780   -0.361338 -0.286362 -0.219374 -0.321113   \n",
       "city-mpg           0.015940   -0.470414 -0.670909 -0.642704 -0.048640   \n",
       "highway-mpg        0.011255   -0.544082 -0.704662 -0.677218 -0.107358   \n",
       "price             -0.110874    0.584847  0.686567  0.724558  0.140439   \n",
       "symboling         -0.151621   -0.531954 -0.357612 -0.232919 -0.541038   \n",
       "normalized-losses -0.221681   -0.073709 -0.006837  0.058378 -0.365674   \n",
       "\n",
       "                   curb-weight  engine-size      bore    stroke  \\\n",
       "ID                    0.071962    -0.033930  0.261161 -0.162483   \n",
       "wheel-base            0.776386     0.569329  0.489556  0.159684   \n",
       "length                0.877728     0.683360  0.607016  0.128622   \n",
       "width                 0.867032     0.735433  0.559262  0.182708   \n",
       "height                0.295572     0.067149  0.173506 -0.058994   \n",
       "curb-weight           1.000000     0.850594  0.648848  0.168164   \n",
       "engine-size           0.850594     1.000000  0.585636  0.200246   \n",
       "bore                  0.648848     0.585636  1.000000 -0.056054   \n",
       "stroke                0.168164     0.200246 -0.056054  1.000000   \n",
       "compression-ratio     0.151362     0.028971  0.005468  0.185679   \n",
       "horsepower            0.750927     0.810216  0.574258  0.083804   \n",
       "peak-rpm             -0.266358    -0.244383 -0.256600 -0.059716   \n",
       "city-mpg             -0.757414    -0.653658 -0.582627 -0.044973   \n",
       "highway-mpg          -0.797465    -0.677470 -0.585352 -0.046389   \n",
       "price                 0.819817     0.860343  0.532861  0.083627   \n",
       "symboling            -0.227691    -0.105790 -0.132563 -0.004928   \n",
       "normalized-losses     0.064343     0.072536 -0.050428  0.046739   \n",
       "\n",
       "                   compression-ratio  horsepower  peak-rpm  city-mpg  \\\n",
       "ID                          0.150276   -0.014415 -0.202780  0.015940   \n",
       "wheel-base                  0.249786    0.352876 -0.361338 -0.470414   \n",
       "length                      0.158414    0.553337 -0.286362 -0.670909   \n",
       "width                       0.181129    0.641337 -0.219374 -0.642704   \n",
       "height                      0.261214   -0.109286 -0.321113 -0.048640   \n",
       "curb-weight                 0.151362    0.750927 -0.266358 -0.757414   \n",
       "engine-size                 0.028971    0.810216 -0.244383 -0.653658   \n",
       "bore                        0.005468    0.574258 -0.256600 -0.582627   \n",
       "stroke                      0.185679    0.083804 -0.059716 -0.044973   \n",
       "compression-ratio           1.000000   -0.204851 -0.436441  0.324701   \n",
       "horsepower                 -0.204851    1.000000  0.130565 -0.802170   \n",
       "peak-rpm                   -0.436441    0.130565  1.000000 -0.114230   \n",
       "city-mpg                    0.324701   -0.802170 -0.114230  1.000000   \n",
       "highway-mpg                 0.265201   -0.770780 -0.054195  0.971337   \n",
       "price                       0.072890    0.749919 -0.107283 -0.668822   \n",
       "symboling                  -0.178515    0.071064  0.273851 -0.035823   \n",
       "normalized-losses          -0.114772    0.166964  0.241134 -0.189530   \n",
       "\n",
       "                   highway-mpg     price  symboling  normalized-losses  \n",
       "ID                    0.011255 -0.110874  -0.151621          -0.221681  \n",
       "wheel-base           -0.544082  0.584847  -0.531954          -0.073709  \n",
       "length               -0.704662  0.686567  -0.357612          -0.006837  \n",
       "width                -0.677218  0.724558  -0.232919           0.058378  \n",
       "height               -0.107358  0.140439  -0.541038          -0.365674  \n",
       "curb-weight          -0.797465  0.819817  -0.227691           0.064343  \n",
       "engine-size          -0.677470  0.860343  -0.105790           0.072536  \n",
       "bore                 -0.585352  0.532861  -0.132563          -0.050428  \n",
       "stroke               -0.046389  0.083627  -0.004928           0.046739  \n",
       "compression-ratio     0.265201  0.072890  -0.178515          -0.114772  \n",
       "horsepower           -0.770780  0.749919   0.071064           0.166964  \n",
       "peak-rpm             -0.054195 -0.107283   0.273851           0.241134  \n",
       "city-mpg              0.971337 -0.668822  -0.035823          -0.189530  \n",
       "highway-mpg           1.000000 -0.693037   0.034606          -0.149357  \n",
       "price                -0.693037  1.000000  -0.080149           0.095489  \n",
       "symboling             0.034606 -0.080149   1.000000           0.457484  \n",
       "normalized-losses    -0.149357  0.095489   0.457484           1.000000  "
      ]
     },
     "execution_count": 30,
     "metadata": {},
     "output_type": "execute_result"
    }
   ],
   "source": [
    "df.corr()"
   ]
  },
  {
   "cell_type": "code",
   "execution_count": 31,
   "metadata": {},
   "outputs": [],
   "source": [
    "df_dummies = pd.get_dummies(df,drop_first=True)"
   ]
  },
  {
   "cell_type": "markdown",
   "metadata": {},
   "source": [
    "mencari volume dengan mengkalikan panjang, lebar, dan tinggi."
   ]
  },
  {
   "cell_type": "code",
   "execution_count": 34,
   "metadata": {},
   "outputs": [
    {
     "name": "stderr",
     "output_type": "stream",
     "text": [
      "C:\\Users\\tiorah064123\\AppData\\Local\\Continuum\\anaconda3\\lib\\site-packages\\ipykernel_launcher.py:8: SettingWithCopyWarning: \n",
      "A value is trying to be set on a copy of a slice from a DataFrame.\n",
      "Try using .loc[row_indexer,col_indexer] = value instead\n",
      "\n",
      "See the caveats in the documentation: http://pandas.pydata.org/pandas-docs/stable/user_guide/indexing.html#returning-a-view-versus-a-copy\n",
      "  \n"
     ]
    }
   ],
   "source": [
    "df2 = df[['price']]\n",
    "arr = []\n",
    "\n",
    "for x in range(len(df)):\n",
    "    y = df['length'][x]*df['width'][x]*df['height'][x]\n",
    "    arr.append(y)\n",
    "\n",
    "df2['volume']=arr"
   ]
  },
  {
   "cell_type": "code",
   "execution_count": 35,
   "metadata": {},
   "outputs": [
    {
     "data": {
      "image/png": "[encoded data removed]",
      "text/plain": [
       "<matplotlib.figure.Figure at 0x1a4109d7668>"
      ]
     },
     "metadata": {},
     "output_type": "display_data"
    }
   ],
   "source": [
    "plt.figure(figsize=(10,5))\n",
    "ax = sns.scatterplot(x=\"volume\", y=\"price\", data=df2)"
   ]
  },
  {
   "cell_type": "markdown",
   "metadata": {},
   "source": [
    "## Modelling"
   ]
  },
  {
   "cell_type": "code",
   "execution_count": 36,
   "metadata": {},
   "outputs": [],
   "source": [
    "from sklearn.cluster import KMeans\n",
    "from sklearn.cluster import DBSCAN"
   ]
  },
  {
   "cell_type": "markdown",
   "metadata": {},
   "source": [
    "## 1. K-Means"
   ]
  },
  {
   "cell_type": "markdown",
   "metadata": {},
   "source": [
    "### 1.1 Elbow method"
   ]
  },
  {
   "cell_type": "markdown",
   "metadata": {},
   "source": [
    "Untuk menentukan optimal 'k' yang digunakan, maka kita dapat melihat visualisasi 'elbow methodnya' dengan kemiringan titik yang signifikan."
   ]
  },
  {
   "cell_type": "code",
   "execution_count": 37,
   "metadata": {},
   "outputs": [
    {
     "data": {
      "image/png": "[encoded data removed]",
      "text/plain": [
       "<matplotlib.figure.Figure at 0x1a410aada20>"
      ]
     },
     "metadata": {},
     "output_type": "display_data"
    }
   ],
   "source": [
    "plt.figure(figsize=(10,5))\n",
    "\n",
    "Sum_of_squared_distances = []\n",
    "K = range(1,11)\n",
    "for k in K:\n",
    "    km = KMeans(n_clusters=k)\n",
    "    km = km.fit(df2)\n",
    "    Sum_of_squared_distances.append(km.inertia_)\n",
    "\n",
    "plt.plot(K, Sum_of_squared_distances, 'bx-')\n",
    "plt.xlabel('k')\n",
    "plt.ylabel('Sum_of_squared_distances')\n",
    "plt.title('Elbow Method For Optimal k')\n",
    "plt.show()"
   ]
  },
  {
   "cell_type": "code",
   "execution_count": 38,
   "metadata": {},
   "outputs": [
    {
     "data": {
      "text/plain": [
       "KMeans(algorithm='auto', copy_x=True, init='k-means++', max_iter=300,\n",
       "    n_clusters=3, n_init=10, n_jobs=None, precompute_distances='auto',\n",
       "    random_state=None, tol=0.0001, verbose=0)"
      ]
     },
     "execution_count": 38,
     "metadata": {},
     "output_type": "execute_result"
    }
   ],
   "source": [
    "kmeans = KMeans(n_clusters=3)\n",
    "kmeans.fit(df2)"
   ]
  },
  {
   "cell_type": "code",
   "execution_count": 39,
   "metadata": {},
   "outputs": [
    {
     "data": {
      "text/html": [
       "<div>\n",
       "<style scoped>\n",
       "    .dataframe tbody tr th:only-of-type {\n",
       "        vertical-align: middle;\n",
       "    }\n",
       "\n",
       "    .dataframe tbody tr th {\n",
       "        vertical-align: top;\n",
       "    }\n",
       "\n",
       "    .dataframe thead th {\n",
       "        text-align: right;\n",
       "    }\n",
       "</style>\n",
       "<table border=\"1\" class=\"dataframe\">\n",
       "  <thead>\n",
       "    <tr style=\"text-align: right;\">\n",
       "      <th></th>\n",
       "      <th>price</th>\n",
       "      <th>volume</th>\n",
       "    </tr>\n",
       "  </thead>\n",
       "  <tbody>\n",
       "    <tr>\n",
       "      <td>0</td>\n",
       "      <td>13495.0</td>\n",
       "      <td>528019.904</td>\n",
       "    </tr>\n",
       "    <tr>\n",
       "      <td>1</td>\n",
       "      <td>16500.0</td>\n",
       "      <td>528019.904</td>\n",
       "    </tr>\n",
       "    <tr>\n",
       "      <td>2</td>\n",
       "      <td>16500.0</td>\n",
       "      <td>587592.640</td>\n",
       "    </tr>\n",
       "    <tr>\n",
       "      <td>3</td>\n",
       "      <td>13950.0</td>\n",
       "      <td>634816.956</td>\n",
       "    </tr>\n",
       "    <tr>\n",
       "      <td>4</td>\n",
       "      <td>17450.0</td>\n",
       "      <td>636734.832</td>\n",
       "    </tr>\n",
       "    <tr>\n",
       "      <td>...</td>\n",
       "      <td>...</td>\n",
       "      <td>...</td>\n",
       "    </tr>\n",
       "    <tr>\n",
       "      <td>200</td>\n",
       "      <td>16845.0</td>\n",
       "      <td>721961.760</td>\n",
       "    </tr>\n",
       "    <tr>\n",
       "      <td>201</td>\n",
       "      <td>19045.0</td>\n",
       "      <td>720913.920</td>\n",
       "    </tr>\n",
       "    <tr>\n",
       "      <td>202</td>\n",
       "      <td>21485.0</td>\n",
       "      <td>721961.760</td>\n",
       "    </tr>\n",
       "    <tr>\n",
       "      <td>203</td>\n",
       "      <td>22470.0</td>\n",
       "      <td>721961.760</td>\n",
       "    </tr>\n",
       "    <tr>\n",
       "      <td>204</td>\n",
       "      <td>22625.0</td>\n",
       "      <td>721961.760</td>\n",
       "    </tr>\n",
       "  </tbody>\n",
       "</table>\n",
       "<p>205 rows × 2 columns</p>\n",
       "</div>"
      ],
      "text/plain": [
       "       price      volume\n",
       "0    13495.0  528019.904\n",
       "1    16500.0  528019.904\n",
       "2    16500.0  587592.640\n",
       "3    13950.0  634816.956\n",
       "4    17450.0  636734.832\n",
       "..       ...         ...\n",
       "200  16845.0  721961.760\n",
       "201  19045.0  720913.920\n",
       "202  21485.0  721961.760\n",
       "203  22470.0  721961.760\n",
       "204  22625.0  721961.760\n",
       "\n",
       "[205 rows x 2 columns]"
      ]
     },
     "execution_count": 39,
     "metadata": {},
     "output_type": "execute_result"
    }
   ],
   "source": [
    "df2"
   ]
  },
  {
   "cell_type": "code",
   "execution_count": 40,
   "metadata": {},
   "outputs": [],
   "source": [
    "df3 = df2.copy()"
   ]
  },
  {
   "cell_type": "code",
   "execution_count": 41,
   "metadata": {},
   "outputs": [],
   "source": [
    "df3['kluster'] = kmeans.labels_"
   ]
  },
  {
   "cell_type": "code",
   "execution_count": 42,
   "metadata": {},
   "outputs": [
    {
     "data": {
      "image/png": "[encoded data removed]",
      "text/plain": [
       "<matplotlib.figure.Figure at 0x1a4108b8470>"
      ]
     },
     "metadata": {},
     "output_type": "display_data"
    }
   ],
   "source": [
    "plt.figure(figsize=(20,5))\n",
    "\n",
    "plt.scatter(df3['volume'],df3['price'], c=df3['kluster'],cmap=plt.cm.winter)\n",
    "plt.xlabel(\"Volume\")\n",
    "plt.ylabel(\"Harga\")\n",
    "plt.title(\"Klustering pada Volume Kendaraan dengan Harga\")\n",
    "plt.show()"
   ]
  },
  {
   "cell_type": "code",
   "execution_count": 92,
   "metadata": {},
   "outputs": [
    {
     "data": {
      "image/png": "[encoded data removed]",
      "text/plain": [
       "<matplotlib.figure.Figure at 0x1a4108a5358>"
      ]
     },
     "metadata": {},
     "output_type": "display_data"
    }
   ],
   "source": [
    "plt.figure(figsize=(20,10))\n",
    "\n",
    "plt.scatter(df3['volume'],df3['price'], c=df3['kluster'],cmap=plt.cm.winter)\n",
    "plt.scatter(kmeans.cluster_centers_[:,0],kmeans.cluster_centers_[:,1],color='black')\n",
    "plt.xlabel(\"Volume\")\n",
    "plt.ylabel(\"Harga\")\n",
    "plt.title(\"Klustering pada Volume Kendaraan dengan Harga\")\n",
    "plt.show()"
   ]
  },
  {
   "cell_type": "markdown",
   "metadata": {},
   "source": [
    "Ini masih menjadi kendala dalam penentuan paramater. Terlihat bahwasanya titik centroid jauh dari hasil clusteringnya."
   ]
  },
  {
   "cell_type": "markdown",
   "metadata": {},
   "source": [
    "### 1.2 Dendogram"
   ]
  },
  {
   "cell_type": "code",
   "execution_count": 94,
   "metadata": {},
   "outputs": [
    {
     "data": {
      "image/png": "[encoded data removed]",
      "text/plain": [
       "<matplotlib.figure.Figure at 0x1a4109f84e0>"
      ]
     },
     "metadata": {},
     "output_type": "display_data"
    }
   ],
   "source": [
    "plt.figure(figsize=(15,5))\n",
    "\n",
    "import scipy.cluster.hierarchy as sch\n",
    "dendrogram = sch.dendrogram(sch.linkage(df2, method='ward'))"
   ]
  },
  {
   "cell_type": "markdown",
   "metadata": {},
   "source": [
    "Terlihat bahwasanya ada jarak yang cukup lebar pada 400000-600000 pada harga. Sehingga dapat di interpretasi bahwa k=3 merupakan nilai yang optimal."
   ]
  },
  {
   "cell_type": "markdown",
   "metadata": {},
   "source": [
    "### 1.3 DBSCAN"
   ]
  },
  {
   "cell_type": "code",
   "execution_count": 88,
   "metadata": {},
   "outputs": [
    {
     "data": {
      "text/plain": [
       "DBSCAN(algorithm='auto', eps=12000, leaf_size=30, metric='euclidean',\n",
       "    metric_params=None, min_samples=2, n_jobs=None, p=None)"
      ]
     },
     "execution_count": 88,
     "metadata": {},
     "output_type": "execute_result"
    }
   ],
   "source": [
    "dbscan = DBSCAN(eps=12000, min_samples=2)\n",
    "dbscan.fit(df3)"
   ]
  },
  {
   "cell_type": "code",
   "execution_count": 89,
   "metadata": {},
   "outputs": [
    {
     "name": "stdout",
     "output_type": "stream",
     "text": [
      "[ 0  0  0  0  0  0  1  1  1  0  0  0  0  0  2  2  2  3 -1  0  0  0  0  0\n",
      "  0  0  0  0  0  0  4  4  0  0  0  0  0  0  0  0  0  0  0  0  0  0  0  2\n",
      "  2  5  0  0  0  0  0  0  0  0  0  0  0  0  0  0  0  0  0  1  3  2  6  6\n",
      "  5 -1  3  0  0  0  0  0  0  0  0  0  0  0  0  0  0  0  0  0  0  0  0  0\n",
      "  0  0  0  0  0  0  2  0  0  0  0  2  2  7  7  2  2  1  7  2  2  2  0  0\n",
      "  0  0  0  0  0  0  8  8  8  0  0  0  2  2  2  2  2  2  0  0  0  0  0  0\n",
      "  0  0  0  0  0  0  0  0  0  0  0  0  0  0  0  0  0  0  0  0  0  0  0  0\n",
      "  0  0  0  0  0  0  0  0  0  0  0  0  0  0  0  0  0  0  0  0  0  0  0  0\n",
      "  0  0  2  2  2  2  2  2  2  2  2  2  2]\n"
     ]
    }
   ],
   "source": [
    "print(dbscan.labels_)"
   ]
  },
  {
   "cell_type": "code",
   "execution_count": 90,
   "metadata": {},
   "outputs": [
    {
     "data": {
      "image/png": "[encoded data removed]",
      "text/plain": [
       "<matplotlib.figure.Figure at 0x1a410905cc0>"
      ]
     },
     "metadata": {},
     "output_type": "display_data"
    }
   ],
   "source": [
    "plt.figure(figsize=(15,5))\n",
    "\n",
    "plt.scatter(df3['volume'],df3['price'], c=dbscan.labels_, cmap='rainbow')\n",
    "plt.xlabel(\"Volume\")\n",
    "plt.ylabel(\"Harga\")\n",
    "plt.title(\"Klustering pada Volume Kendaraan dengan Harga\")\n",
    "plt.show()"
   ]
  },
  {
   "cell_type": "markdown",
   "metadata": {},
   "source": [
    "Dari print label yang dihasilkan, terlihat bahwasanya ada 7 kluster yang berbeda. Ada kluster yang memiliki volume besar dan harga tinggi berisikan satu data saja. Penyebaran yang dihasilkan juga cukup merata."
   ]
  }
 ],
 "metadata": {
  "kernelspec": {
   "display_name": "Python 3",
   "language": "python",
   "name": "python3"
  },
  "language_info": {
   "codemirror_mode": {
    "name": "ipython",
    "version": 3
   },
   "file_extension": ".py",
   "mimetype": "text/x-python",
   "name": "python",
   "nbconvert_exporter": "python",
   "pygments_lexer": "ipython3",
   "version": "3.6.9"
  }
 },
 "nbformat": 4,
 "nbformat_minor": 2
}
